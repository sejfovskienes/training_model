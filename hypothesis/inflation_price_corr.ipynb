{
 "cells": [
  {
   "cell_type": "code",
   "execution_count": 2,
   "id": "820150ff",
   "metadata": {},
   "outputs": [],
   "source": [
    "import pandas as pd\n",
    "import matplotlib.pyplot as plt "
   ]
  },
  {
   "cell_type": "code",
   "execution_count": 3,
   "id": "822c67b7",
   "metadata": {},
   "outputs": [
    {
     "data": {
      "text/html": [
       "<div>\n",
       "<style scoped>\n",
       "    .dataframe tbody tr th:only-of-type {\n",
       "        vertical-align: middle;\n",
       "    }\n",
       "\n",
       "    .dataframe tbody tr th {\n",
       "        vertical-align: top;\n",
       "    }\n",
       "\n",
       "    .dataframe thead th {\n",
       "        text-align: right;\n",
       "    }\n",
       "</style>\n",
       "<table border=\"1\" class=\"dataframe\">\n",
       "  <thead>\n",
       "    <tr style=\"text-align: right;\">\n",
       "      <th></th>\n",
       "      <th>Date</th>\n",
       "      <th>Close</th>\n",
       "      <th>Volume</th>\n",
       "      <th>CPIAUCSL</th>\n",
       "      <th>FEDFUNDS</th>\n",
       "      <th>sp500</th>\n",
       "      <th>usd_index</th>\n",
       "      <th>Open_prev</th>\n",
       "      <th>High_prev</th>\n",
       "      <th>Low_prev</th>\n",
       "    </tr>\n",
       "  </thead>\n",
       "  <tbody>\n",
       "    <tr>\n",
       "      <th>0</th>\n",
       "      <td>2000-08-31</td>\n",
       "      <td>278.299988</td>\n",
       "      <td>0.0</td>\n",
       "      <td>172.7</td>\n",
       "      <td>6.50</td>\n",
       "      <td>1517.680054</td>\n",
       "      <td>112.599998</td>\n",
       "      <td>273.899994</td>\n",
       "      <td>273.899994</td>\n",
       "      <td>273.899994</td>\n",
       "    </tr>\n",
       "    <tr>\n",
       "      <th>1</th>\n",
       "      <td>2000-09-01</td>\n",
       "      <td>277.000000</td>\n",
       "      <td>0.0</td>\n",
       "      <td>173.6</td>\n",
       "      <td>6.52</td>\n",
       "      <td>1520.770020</td>\n",
       "      <td>111.419998</td>\n",
       "      <td>274.799988</td>\n",
       "      <td>278.299988</td>\n",
       "      <td>274.799988</td>\n",
       "    </tr>\n",
       "    <tr>\n",
       "      <th>2</th>\n",
       "      <td>2000-09-05</td>\n",
       "      <td>275.799988</td>\n",
       "      <td>2.0</td>\n",
       "      <td>173.6</td>\n",
       "      <td>6.52</td>\n",
       "      <td>1507.079956</td>\n",
       "      <td>112.410004</td>\n",
       "      <td>277.000000</td>\n",
       "      <td>277.000000</td>\n",
       "      <td>277.000000</td>\n",
       "    </tr>\n",
       "    <tr>\n",
       "      <th>3</th>\n",
       "      <td>2000-09-06</td>\n",
       "      <td>274.200012</td>\n",
       "      <td>0.0</td>\n",
       "      <td>173.6</td>\n",
       "      <td>6.52</td>\n",
       "      <td>1492.250000</td>\n",
       "      <td>114.120003</td>\n",
       "      <td>275.799988</td>\n",
       "      <td>275.799988</td>\n",
       "      <td>275.799988</td>\n",
       "    </tr>\n",
       "    <tr>\n",
       "      <th>4</th>\n",
       "      <td>2000-09-07</td>\n",
       "      <td>274.000000</td>\n",
       "      <td>125.0</td>\n",
       "      <td>173.6</td>\n",
       "      <td>6.52</td>\n",
       "      <td>1502.510010</td>\n",
       "      <td>113.650002</td>\n",
       "      <td>274.200012</td>\n",
       "      <td>274.200012</td>\n",
       "      <td>274.200012</td>\n",
       "    </tr>\n",
       "  </tbody>\n",
       "</table>\n",
       "</div>"
      ],
      "text/plain": [
       "        Date       Close  Volume  CPIAUCSL  FEDFUNDS        sp500   usd_index  \\\n",
       "0 2000-08-31  278.299988     0.0     172.7      6.50  1517.680054  112.599998   \n",
       "1 2000-09-01  277.000000     0.0     173.6      6.52  1520.770020  111.419998   \n",
       "2 2000-09-05  275.799988     2.0     173.6      6.52  1507.079956  112.410004   \n",
       "3 2000-09-06  274.200012     0.0     173.6      6.52  1492.250000  114.120003   \n",
       "4 2000-09-07  274.000000   125.0     173.6      6.52  1502.510010  113.650002   \n",
       "\n",
       "    Open_prev   High_prev    Low_prev  \n",
       "0  273.899994  273.899994  273.899994  \n",
       "1  274.799988  278.299988  274.799988  \n",
       "2  277.000000  277.000000  277.000000  \n",
       "3  275.799988  275.799988  275.799988  \n",
       "4  274.200012  274.200012  274.200012  "
      ]
     },
     "execution_count": 3,
     "metadata": {},
     "output_type": "execute_result"
    }
   ],
   "source": [
    "path = r'../dataset/dataset_v2.csv'    \n",
    "df = pd.read_csv(path, parse_dates=['Date'])\n",
    "df = df.sort_values(\"Date\")\n",
    "df = df.reset_index(drop=True)\n",
    "df.head()"
   ]
  },
  {
   "cell_type": "code",
   "execution_count": null,
   "id": "527b4e85",
   "metadata": {},
   "outputs": [
    {
     "ename": "NameError",
     "evalue": "name 'figsize' is not defined",
     "output_type": "error",
     "traceback": [
      "\u001b[31m---------------------------------------------------------------------------\u001b[39m",
      "\u001b[31mNameError\u001b[39m                                 Traceback (most recent call last)",
      "\u001b[36mCell\u001b[39m\u001b[36m \u001b[39m\u001b[32mIn[4]\u001b[39m\u001b[32m, line 1\u001b[39m\n\u001b[32m----> \u001b[39m\u001b[32m1\u001b[39m plt.figure(\u001b[43mfigsize\u001b[49m(\u001b[32m24\u001b[39m, \u001b[32m12\u001b[39m))\n\u001b[32m      2\u001b[39m plt.title(\u001b[33m'\u001b[39m\u001b[33mTrends of gold price and interest rate (FEDFUNDS)\u001b[39m\u001b[33m'\u001b[39m)\n\u001b[32m      3\u001b[39m plt.plot(df[\u001b[33m'\u001b[39m\u001b[33mDate\u001b[39m\u001b[33m'\u001b[39m], df[\u001b[33m'\u001b[39m\u001b[33mClose\u001b[39m\u001b[33m'\u001b[39m], label=\u001b[33m'\u001b[39m\u001b[33mGold price\u001b[39m\u001b[33m'\u001b[39m, color=\u001b[33m'\u001b[39m\u001b[33morange\u001b[39m\u001b[33m'\u001b[39m)\n",
      "\u001b[31mNameError\u001b[39m: name 'figsize' is not defined"
     ]
    }
   ],
   "source": [
    "plt.figure(figsize=(24, 12))\n",
    "plt.title('Trends of gold price and interest rate (FEDFUNDS)')\n",
    "plt.plot(df['Date'], df['Close'], label='Gold price', color='orange')\n",
    "plt.plot(df['Date'], df['FEDFUNDS'], label='Interest rates', color='blue')\n",
    "plt.xlabel('Date')\n",
    "plt.ylabel('Values')\n",
    "plt.legend()\n",
    "plt.grid(True)\n",
    "plt.show()"
   ]
  },
  {
   "cell_type": "code",
   "execution_count": null,
   "id": "fa559f04",
   "metadata": {},
   "outputs": [],
   "source": []
  }
 ],
 "metadata": {
  "kernelspec": {
   "display_name": ".venv",
   "language": "python",
   "name": "python3"
  },
  "language_info": {
   "codemirror_mode": {
    "name": "ipython",
    "version": 3
   },
   "file_extension": ".py",
   "mimetype": "text/x-python",
   "name": "python",
   "nbconvert_exporter": "python",
   "pygments_lexer": "ipython3",
   "version": "3.12.8"
  }
 },
 "nbformat": 4,
 "nbformat_minor": 5
}
