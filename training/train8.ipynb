{
 "cells": [
  {
   "cell_type": "markdown",
   "id": "35cbe775",
   "metadata": {},
   "source": [
    "***FETCHING DATA***"
   ]
  },
  {
   "cell_type": "code",
   "execution_count": 3,
   "id": "0bb69c09",
   "metadata": {},
   "outputs": [],
   "source": [
    "import yfinance as yf\n",
    "import pandas as pd"
   ]
  },
  {
   "cell_type": "code",
   "execution_count": 8,
   "id": "f95d7c17",
   "metadata": {},
   "outputs": [],
   "source": [
    "def fetch_financial_data(start='2015-01-01', end='2025-01-01'):\n",
    "    tickers = {\n",
    "        'SPX': '^GSPC',\n",
    "        'GLD': 'GLD',\n",
    "        'USO': 'USO',\n",
    "        'SLV': 'SLV',\n",
    "        'EUR/USD': 'EURUSD=X'\n",
    "    }\n",
    "\n",
    "    df_list = []\n",
    "\n",
    "    for label, symbol in tickers.items():\n",
    "        print(f\"Downloading {label} ({symbol})...\")\n",
    "        data = yf.download(symbol, start=start, end=end)\n",
    "        \n",
    "        if data.empty:\n",
    "            raise ValueError(f\"No data returned for {label} ({symbol})\")\n",
    "        \n",
    "        if 'Adj Close' not in data.columns:\n",
    "            print(f\"Warning: 'Adj Close' not found for {label}, trying 'Close' column instead.\")\n",
    "            if 'Close' in data.columns:\n",
    "                data = data[['Close']].rename(columns={'Close': label})\n",
    "            else:\n",
    "                raise ValueError(f\"No usable price column found for {label} ({symbol})\")\n",
    "        else:\n",
    "            data = data[['Adj Close']].rename(columns={'Adj Close': label})\n",
    "        \n",
    "        df_list.append(data)\n",
    "\n",
    "    combined_df = pd.concat(df_list, axis=1)\n",
    "    combined_df.dropna(inplace=True)\n",
    "    combined_df.reset_index(inplace=True)\n",
    "\n",
    "    return combined_df"
   ]
  },
  {
   "cell_type": "code",
   "execution_count": 9,
   "id": "6d39aeca",
   "metadata": {},
   "outputs": [
    {
     "name": "stderr",
     "output_type": "stream",
     "text": [
      "C:\\Users\\User\\AppData\\Local\\Temp\\ipykernel_22400\\2654868240.py:14: FutureWarning: YF.download() has changed argument auto_adjust default to True\n",
      "  data = yf.download(symbol, start=start, end=end)\n",
      "[*********************100%***********************]  1 of 1 completed"
     ]
    },
    {
     "name": "stdout",
     "output_type": "stream",
     "text": [
      "Downloading SPX (^GSPC)...\n",
      "Warning: 'Adj Close' not found for SPX, trying 'Close' column instead.\n",
      "Downloading GLD (GLD)...\n"
     ]
    },
    {
     "name": "stderr",
     "output_type": "stream",
     "text": [
      "\n",
      "C:\\Users\\User\\AppData\\Local\\Temp\\ipykernel_22400\\2654868240.py:14: FutureWarning: YF.download() has changed argument auto_adjust default to True\n",
      "  data = yf.download(symbol, start=start, end=end)\n",
      "[*********************100%***********************]  1 of 1 completed\n",
      "C:\\Users\\User\\AppData\\Local\\Temp\\ipykernel_22400\\2654868240.py:14: FutureWarning: YF.download() has changed argument auto_adjust default to True\n",
      "  data = yf.download(symbol, start=start, end=end)\n"
     ]
    },
    {
     "name": "stdout",
     "output_type": "stream",
     "text": [
      "Warning: 'Adj Close' not found for GLD, trying 'Close' column instead.\n",
      "Downloading USO (USO)...\n"
     ]
    },
    {
     "name": "stderr",
     "output_type": "stream",
     "text": [
      "[*********************100%***********************]  1 of 1 completed\n",
      "C:\\Users\\User\\AppData\\Local\\Temp\\ipykernel_22400\\2654868240.py:14: FutureWarning: YF.download() has changed argument auto_adjust default to True\n",
      "  data = yf.download(symbol, start=start, end=end)\n"
     ]
    },
    {
     "name": "stdout",
     "output_type": "stream",
     "text": [
      "Warning: 'Adj Close' not found for USO, trying 'Close' column instead.\n",
      "Downloading SLV (SLV)...\n"
     ]
    },
    {
     "name": "stderr",
     "output_type": "stream",
     "text": [
      "[*********************100%***********************]  1 of 1 completed\n",
      "C:\\Users\\User\\AppData\\Local\\Temp\\ipykernel_22400\\2654868240.py:14: FutureWarning: YF.download() has changed argument auto_adjust default to True\n",
      "  data = yf.download(symbol, start=start, end=end)\n"
     ]
    },
    {
     "name": "stdout",
     "output_type": "stream",
     "text": [
      "Warning: 'Adj Close' not found for SLV, trying 'Close' column instead.\n",
      "Downloading EUR/USD (EURUSD=X)...\n"
     ]
    },
    {
     "name": "stderr",
     "output_type": "stream",
     "text": [
      "[*********************100%***********************]  1 of 1 completed"
     ]
    },
    {
     "name": "stdout",
     "output_type": "stream",
     "text": [
      "Warning: 'Adj Close' not found for EUR/USD, trying 'Close' column instead.\n"
     ]
    },
    {
     "name": "stderr",
     "output_type": "stream",
     "text": [
      "\n"
     ]
    }
   ],
   "source": [
    "df = fetch_financial_data(start='2015-01-01', end='2025-01-01')"
   ]
  },
  {
   "cell_type": "code",
   "execution_count": 10,
   "id": "3e561b72",
   "metadata": {},
   "outputs": [
    {
     "name": "stdout",
     "output_type": "stream",
     "text": [
      "<class 'pandas.core.frame.DataFrame'>\n",
      "RangeIndex: 2513 entries, 0 to 2512\n",
      "Data columns (total 6 columns):\n",
      " #   Column               Non-Null Count  Dtype         \n",
      "---  ------               --------------  -----         \n",
      " 0   (Date, )             2513 non-null   datetime64[ns]\n",
      " 1   (SPX, ^GSPC)         2513 non-null   float64       \n",
      " 2   (GLD, GLD)           2513 non-null   float64       \n",
      " 3   (USO, USO)           2513 non-null   float64       \n",
      " 4   (SLV, SLV)           2513 non-null   float64       \n",
      " 5   (EUR/USD, EURUSD=X)  2513 non-null   float64       \n",
      "dtypes: datetime64[ns](1), float64(5)\n",
      "memory usage: 117.9 KB\n"
     ]
    }
   ],
   "source": [
    "df.info()"
   ]
  },
  {
   "cell_type": "code",
   "execution_count": 11,
   "id": "aa09de4a",
   "metadata": {},
   "outputs": [
    {
     "data": {
      "text/html": [
       "<div>\n",
       "<style scoped>\n",
       "    .dataframe tbody tr th:only-of-type {\n",
       "        vertical-align: middle;\n",
       "    }\n",
       "\n",
       "    .dataframe tbody tr th {\n",
       "        vertical-align: top;\n",
       "    }\n",
       "\n",
       "    .dataframe thead tr th {\n",
       "        text-align: left;\n",
       "    }\n",
       "</style>\n",
       "<table border=\"1\" class=\"dataframe\">\n",
       "  <thead>\n",
       "    <tr>\n",
       "      <th>Price</th>\n",
       "      <th>Date</th>\n",
       "      <th>SPX</th>\n",
       "      <th>GLD</th>\n",
       "      <th>USO</th>\n",
       "      <th>SLV</th>\n",
       "      <th>EUR/USD</th>\n",
       "    </tr>\n",
       "    <tr>\n",
       "      <th>Ticker</th>\n",
       "      <th></th>\n",
       "      <th>^GSPC</th>\n",
       "      <th>GLD</th>\n",
       "      <th>USO</th>\n",
       "      <th>SLV</th>\n",
       "      <th>EURUSD=X</th>\n",
       "    </tr>\n",
       "  </thead>\n",
       "  <tbody>\n",
       "    <tr>\n",
       "      <th>0</th>\n",
       "      <td>2015-01-02</td>\n",
       "      <td>2058.199951</td>\n",
       "      <td>114.080002</td>\n",
       "      <td>159.119995</td>\n",
       "      <td>15.11</td>\n",
       "      <td>1.208941</td>\n",
       "    </tr>\n",
       "    <tr>\n",
       "      <th>1</th>\n",
       "      <td>2015-01-05</td>\n",
       "      <td>2020.579956</td>\n",
       "      <td>115.800003</td>\n",
       "      <td>150.320007</td>\n",
       "      <td>15.50</td>\n",
       "      <td>1.194643</td>\n",
       "    </tr>\n",
       "    <tr>\n",
       "      <th>2</th>\n",
       "      <td>2015-01-06</td>\n",
       "      <td>2002.609985</td>\n",
       "      <td>117.120003</td>\n",
       "      <td>144.399994</td>\n",
       "      <td>15.83</td>\n",
       "      <td>1.193902</td>\n",
       "    </tr>\n",
       "    <tr>\n",
       "      <th>3</th>\n",
       "      <td>2015-01-07</td>\n",
       "      <td>2025.900024</td>\n",
       "      <td>116.430000</td>\n",
       "      <td>146.960007</td>\n",
       "      <td>15.85</td>\n",
       "      <td>1.187536</td>\n",
       "    </tr>\n",
       "    <tr>\n",
       "      <th>4</th>\n",
       "      <td>2015-01-08</td>\n",
       "      <td>2062.139893</td>\n",
       "      <td>115.940002</td>\n",
       "      <td>148.399994</td>\n",
       "      <td>15.64</td>\n",
       "      <td>1.183600</td>\n",
       "    </tr>\n",
       "  </tbody>\n",
       "</table>\n",
       "</div>"
      ],
      "text/plain": [
       "Price        Date          SPX         GLD         USO    SLV   EUR/USD\n",
       "Ticker                   ^GSPC         GLD         USO    SLV  EURUSD=X\n",
       "0      2015-01-02  2058.199951  114.080002  159.119995  15.11  1.208941\n",
       "1      2015-01-05  2020.579956  115.800003  150.320007  15.50  1.194643\n",
       "2      2015-01-06  2002.609985  117.120003  144.399994  15.83  1.193902\n",
       "3      2015-01-07  2025.900024  116.430000  146.960007  15.85  1.187536\n",
       "4      2015-01-08  2062.139893  115.940002  148.399994  15.64  1.183600"
      ]
     },
     "execution_count": 11,
     "metadata": {},
     "output_type": "execute_result"
    }
   ],
   "source": [
    "df.head()"
   ]
  },
  {
   "cell_type": "code",
   "execution_count": 12,
   "id": "b92f44c9",
   "metadata": {},
   "outputs": [
    {
     "data": {
      "text/plain": [
       "Price    Ticker  \n",
       "Date                 0\n",
       "SPX      ^GSPC       0\n",
       "GLD      GLD         0\n",
       "USO      USO         0\n",
       "SLV      SLV         0\n",
       "EUR/USD  EURUSD=X    0\n",
       "dtype: int64"
      ]
     },
     "execution_count": 12,
     "metadata": {},
     "output_type": "execute_result"
    }
   ],
   "source": [
    "df.isnull().sum()\n"
   ]
  },
  {
   "cell_type": "code",
   "execution_count": 13,
   "id": "d16df655",
   "metadata": {},
   "outputs": [],
   "source": [
    "path = r'C:\\Users\\User\\dev\\training_model\\dataset\\financial_data.csv'\n",
    "df.to_csv(path, index=False)"
   ]
  },
  {
   "cell_type": "code",
   "execution_count": null,
   "id": "3c969a74",
   "metadata": {},
   "outputs": [],
   "source": []
  }
 ],
 "metadata": {
  "kernelspec": {
   "display_name": ".venv",
   "language": "python",
   "name": "python3"
  },
  "language_info": {
   "codemirror_mode": {
    "name": "ipython",
    "version": 3
   },
   "file_extension": ".py",
   "mimetype": "text/x-python",
   "name": "python",
   "nbconvert_exporter": "python",
   "pygments_lexer": "ipython3",
   "version": "3.12.8"
  }
 },
 "nbformat": 4,
 "nbformat_minor": 5
}
